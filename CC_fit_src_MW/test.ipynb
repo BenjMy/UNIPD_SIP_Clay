{
 "cells": [
  {
   "cell_type": "markdown",
   "id": "a27d966d-c733-4c24-902e-ed2efa1d3d2e",
   "metadata": {},
   "source": [
    "# preliminary test for SIP data inversion using CC fit"
   ]
  },
  {
   "cell_type": "code",
   "execution_count": 1,
   "id": "eadee0cf-1ef3-4c8f-85ad-3066eec2580b",
   "metadata": {},
   "outputs": [
    {
     "ename": "FileNotFoundError",
     "evalue": "[Errno 2] No such file or directory: './examples/1-term/01'",
     "output_type": "error",
     "traceback": [
      "\u001b[0;31m---------------------------------------------------------------------------\u001b[0m",
      "\u001b[0;31mFileNotFoundError\u001b[0m                         Traceback (most recent call last)",
      "\u001b[0;32m/tmp/ipykernel_49851/540943405.py\u001b[0m in \u001b[0;36m<module>\u001b[0;34m\u001b[0m\n\u001b[1;32m      5\u001b[0m \u001b[0;34m\u001b[0m\u001b[0m\n\u001b[1;32m      6\u001b[0m \u001b[0;34m\u001b[0m\u001b[0m\n\u001b[0;32m----> 7\u001b[0;31m \u001b[0mos\u001b[0m\u001b[0;34m.\u001b[0m\u001b[0mchdir\u001b[0m\u001b[0;34m(\u001b[0m\u001b[0;34m'./examples/1-term/01'\u001b[0m\u001b[0;34m)\u001b[0m\u001b[0;34m\u001b[0m\u001b[0;34m\u001b[0m\u001b[0m\n\u001b[0m",
      "\u001b[0;31mFileNotFoundError\u001b[0m: [Errno 2] No such file or directory: './examples/1-term/01'"
     ]
    }
   ],
   "source": [
    "import os\n",
    "os.chdir('./lib/')\n",
    "\n",
    "from lib_cc_fit import cc_fit\n",
    "\n",
    "\n",
    "os.chdir('./examples/1-term/01')\n"
   ]
  },
  {
   "cell_type": "code",
   "execution_count": null,
   "id": "d74e2c57-1211-4993-bb66-26bccbe45e8f",
   "metadata": {},
   "outputs": [],
   "source": [
    "!cc_fit.py --h"
   ]
  },
  {
   "cell_type": "code",
   "execution_count": 3,
   "id": "c746b0db-b4f4-4e13-ae51-02becd38fefb",
   "metadata": {},
   "outputs": [
    {
     "name": "stdout",
     "output_type": "stream",
     "text": [
      "There was an error opening the file: ./examples/1-term/01/data.dat\n",
      "There was an error opening the file: ./examples/1-term/01/frequencies.dat\n",
      "Traceback (most recent call last):\n",
      "  File \"/home/ben/miniconda3/bin/cc_fit.py\", line 4, in <module>\n",
      "    __import__('pkg_resources').run_script('cc-fit==0.1.0', 'cc_fit.py')\n",
      "  File \"/home/ben/miniconda3/lib/python3.9/site-packages/pkg_resources/__init__.py\", line 651, in run_script\n",
      "    self.require(requires)[0].run_script(script_name, ns)\n",
      "  File \"/home/ben/miniconda3/lib/python3.9/site-packages/pkg_resources/__init__.py\", line 1455, in run_script\n",
      "    exec(script_code, namespace, namespace)\n",
      "  File \"/home/ben/miniconda3/lib/python3.9/site-packages/cc_fit-0.1.0-py3.9.egg/EGG-INFO/scripts/cc_fit.py\", line 144, in <module>\n",
      "  File \"/home/ben/miniconda3/lib/python3.9/site-packages/cc_fit-0.1.0-py3.9.egg/lib_cc_fit/cc_fit.py\", line 247, in set_initial_values\n",
      "  File \"/home/ben/miniconda3/lib/python3.9/site-packages/cc_fit-0.1.0-py3.9.egg/lib_cc_fit/cc_fit.py\", line 194, in initial_parameter_heuristic_2\n",
      "IndexError: index 0 is out of bounds for axis 0 with size 0\n"
     ]
    }
   ],
   "source": [
    "!cc_fit.py -f ./examples/1-term/01/frequencies.dat -d ./examples/1-term/01/data.dat --plot -o results"
   ]
  }
 ],
 "metadata": {
  "kernelspec": {
   "display_name": "Python 3 (ipykernel)",
   "language": "python",
   "name": "python3"
  },
  "language_info": {
   "codemirror_mode": {
    "name": "ipython",
    "version": 3
   },
   "file_extension": ".py",
   "mimetype": "text/x-python",
   "name": "python",
   "nbconvert_exporter": "python",
   "pygments_lexer": "ipython3",
   "version": "3.8.10"
  }
 },
 "nbformat": 4,
 "nbformat_minor": 5
}
